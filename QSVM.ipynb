{
  "cells": [
    {
      "cell_type": "code",
      "execution_count": 1,
      "metadata": {
        "colab": {
          "base_uri": "https://localhost:8080/"
        },
        "id": "XyhCm3jbfZIC",
        "outputId": "0294a9a5-d29c-4c6c-a551-d811f967cbde"
      },
      "outputs": [
        {
          "name": "stdout",
          "output_type": "stream",
          "text": [
            "Collecting pennylane\n",
            "  Downloading PennyLane-0.38.0-py3-none-any.whl.metadata (9.3 kB)\n",
            "Requirement already satisfied: numpy<2.0 in c:\\users\\sid\\appdata\\local\\programs\\python\\python311\\lib\\site-packages (from pennylane) (1.26.3)\n",
            "Requirement already satisfied: scipy in c:\\users\\sid\\appdata\\local\\programs\\python\\python311\\lib\\site-packages (from pennylane) (1.14.0)\n",
            "Requirement already satisfied: networkx in c:\\users\\sid\\appdata\\local\\programs\\python\\python311\\lib\\site-packages (from pennylane) (3.2.1)\n",
            "Collecting rustworkx>=0.14.0 (from pennylane)\n",
            "  Downloading rustworkx-0.15.1-cp38-abi3-win_amd64.whl.metadata (10 kB)\n",
            "Collecting autograd (from pennylane)\n",
            "  Downloading autograd-1.7.0-py3-none-any.whl.metadata (7.5 kB)\n",
            "Requirement already satisfied: toml in c:\\users\\sid\\appdata\\local\\programs\\python\\python311\\lib\\site-packages (from pennylane) (0.10.2)\n",
            "Collecting appdirs (from pennylane)\n",
            "  Downloading appdirs-1.4.4-py2.py3-none-any.whl.metadata (9.0 kB)\n",
            "Collecting autoray>=0.6.11 (from pennylane)\n",
            "  Downloading autoray-0.6.12-py3-none-any.whl.metadata (5.7 kB)\n",
            "Requirement already satisfied: cachetools in c:\\users\\sid\\appdata\\local\\programs\\python\\python311\\lib\\site-packages (from pennylane) (5.5.0)\n",
            "Collecting pennylane-lightning>=0.38 (from pennylane)\n",
            "  Downloading PennyLane_Lightning-0.38.0-cp311-cp311-win_amd64.whl.metadata (26 kB)\n",
            "Requirement already satisfied: requests in c:\\users\\sid\\appdata\\local\\programs\\python\\python311\\lib\\site-packages (from pennylane) (2.32.3)\n",
            "Requirement already satisfied: typing-extensions in c:\\users\\sid\\appdata\\local\\programs\\python\\python311\\lib\\site-packages (from pennylane) (4.12.2)\n",
            "Requirement already satisfied: packaging in c:\\users\\sid\\appdata\\local\\programs\\python\\python311\\lib\\site-packages (from pennylane) (24.1)\n",
            "Requirement already satisfied: charset-normalizer<4,>=2 in c:\\users\\sid\\appdata\\local\\programs\\python\\python311\\lib\\site-packages (from requests->pennylane) (3.3.2)\n",
            "Requirement already satisfied: idna<4,>=2.5 in c:\\users\\sid\\appdata\\local\\programs\\python\\python311\\lib\\site-packages (from requests->pennylane) (3.7)\n",
            "Requirement already satisfied: urllib3<3,>=1.21.1 in c:\\users\\sid\\appdata\\local\\programs\\python\\python311\\lib\\site-packages (from requests->pennylane) (2.2.2)\n",
            "Requirement already satisfied: certifi>=2017.4.17 in c:\\users\\sid\\appdata\\local\\programs\\python\\python311\\lib\\site-packages (from requests->pennylane) (2024.7.4)\n",
            "Downloading PennyLane-0.38.0-py3-none-any.whl (1.9 MB)\n",
            "   ---------------------------------------- 0.0/1.9 MB ? eta -:--:--\n",
            "   ---------------------------------------- 1.9/1.9 MB 12.8 MB/s eta 0:00:00\n",
            "Downloading autoray-0.6.12-py3-none-any.whl (50 kB)\n",
            "Downloading PennyLane_Lightning-0.38.0-cp311-cp311-win_amd64.whl (5.8 MB)\n",
            "   ---------------------------------------- 0.0/5.8 MB ? eta -:--:--\n",
            "   ------------------- -------------------- 2.9/5.8 MB 15.2 MB/s eta 0:00:01\n",
            "   ---------------------------------- ----- 5.0/5.8 MB 13.7 MB/s eta 0:00:01\n",
            "   ---------------------------------------- 5.8/5.8 MB 10.8 MB/s eta 0:00:00\n",
            "Downloading rustworkx-0.15.1-cp38-abi3-win_amd64.whl (1.8 MB)\n",
            "   ---------------------------------------- 0.0/1.8 MB ? eta -:--:--\n",
            "   ----- ---------------------------------- 0.3/1.8 MB ? eta -:--:--\n",
            "   ----------------- ---------------------- 0.8/1.8 MB 1.9 MB/s eta 0:00:01\n",
            "   ---------------------- ----------------- 1.0/1.8 MB 2.0 MB/s eta 0:00:01\n",
            "   ---------------------------------------  1.8/1.8 MB 2.1 MB/s eta 0:00:01\n",
            "   ---------------------------------------- 1.8/1.8 MB 2.1 MB/s eta 0:00:00\n",
            "Downloading appdirs-1.4.4-py2.py3-none-any.whl (9.6 kB)\n",
            "Downloading autograd-1.7.0-py3-none-any.whl (52 kB)\n",
            "Installing collected packages: appdirs, rustworkx, autoray, autograd, pennylane-lightning, pennylane\n",
            "Successfully installed appdirs-1.4.4 autograd-1.7.0 autoray-0.6.12 pennylane-0.38.0 pennylane-lightning-0.38.0 rustworkx-0.15.1\n"
          ]
        }
      ],
      "source": [
        "\n",
        "!pip install pennylane"
      ]
    },
    {
      "cell_type": "markdown",
      "metadata": {
        "id": "ZANWXd7weEe2"
      },
      "source": [
        "## Downloading the Data and the Preprocessing\n",
        "\n",
        "The dataset can be found [here](https://figshare.com/articles/dataset/Training_and_testing_data_used_in_the_paper_An_equation-of-state-meter_of_QCD_transition_from_deep_learning_/5457220/1)\n",
        "\n"
      ]
    },
    {
      "cell_type": "code",
      "execution_count": 2,
      "metadata": {
        "id": "CWLJ7Uh3dOey"
      },
      "outputs": [],
      "source": [
        "# do the basic imports\n",
        "import numpy as np\n",
        "import pandas as pd\n",
        "from sklearn.model_selection import train_test_split"
      ]
    },
    {
      "cell_type": "code",
      "execution_count": 3,
      "metadata": {
        "id": "xaqNzTeff1QH"
      },
      "outputs": [],
      "source": [
        "dataset = pd.read_csv(r'C:\\Users\\Sid\\Downloads\\quantum project thing\\training_observables.csv', header=None)"
      ]
    },
    {
      "cell_type": "code",
      "execution_count": 4,
      "metadata": {
        "colab": {
          "base_uri": "https://localhost:8080/",
          "height": 488
        },
        "id": "h8AQPfDIf8mD",
        "outputId": "46507a5a-6301-47f8-e2e2-488e90dffd03"
      },
      "outputs": [
        {
          "data": {
            "text/html": [
              "<div>\n",
              "<style scoped>\n",
              "    .dataframe tbody tr th:only-of-type {\n",
              "        vertical-align: middle;\n",
              "    }\n",
              "\n",
              "    .dataframe tbody tr th {\n",
              "        vertical-align: top;\n",
              "    }\n",
              "\n",
              "    .dataframe thead th {\n",
              "        text-align: right;\n",
              "    }\n",
              "</style>\n",
              "<table border=\"1\" class=\"dataframe\">\n",
              "  <thead>\n",
              "    <tr style=\"text-align: right;\">\n",
              "      <th></th>\n",
              "      <th>0</th>\n",
              "      <th>1</th>\n",
              "      <th>2</th>\n",
              "      <th>3</th>\n",
              "      <th>4</th>\n",
              "      <th>5</th>\n",
              "      <th>6</th>\n",
              "      <th>7</th>\n",
              "      <th>8</th>\n",
              "      <th>9</th>\n",
              "      <th>...</th>\n",
              "      <th>77</th>\n",
              "      <th>78</th>\n",
              "      <th>79</th>\n",
              "      <th>80</th>\n",
              "      <th>81</th>\n",
              "      <th>82</th>\n",
              "      <th>83</th>\n",
              "      <th>84</th>\n",
              "      <th>85</th>\n",
              "      <th>86</th>\n",
              "    </tr>\n",
              "  </thead>\n",
              "  <tbody>\n",
              "    <tr>\n",
              "      <th>0</th>\n",
              "      <td>0</td>\n",
              "      <td>0.0</td>\n",
              "      <td>0.493280</td>\n",
              "      <td>119.32780</td>\n",
              "      <td>0.026617</td>\n",
              "      <td>0.019539</td>\n",
              "      <td>0.001285</td>\n",
              "      <td>0.004125</td>\n",
              "      <td>-0.114632</td>\n",
              "      <td>-0.192545</td>\n",
              "      <td>...</td>\n",
              "      <td>0.001793</td>\n",
              "      <td>0.003997</td>\n",
              "      <td>0.008152</td>\n",
              "      <td>0.015164</td>\n",
              "      <td>0.025790</td>\n",
              "      <td>0.040464</td>\n",
              "      <td>0.059261</td>\n",
              "      <td>0.081969</td>\n",
              "      <td>0.108310</td>\n",
              "      <td>0.138916</td>\n",
              "    </tr>\n",
              "    <tr>\n",
              "      <th>1</th>\n",
              "      <td>1</td>\n",
              "      <td>0.0</td>\n",
              "      <td>0.499796</td>\n",
              "      <td>140.66150</td>\n",
              "      <td>0.027218</td>\n",
              "      <td>0.015303</td>\n",
              "      <td>0.017385</td>\n",
              "      <td>0.001732</td>\n",
              "      <td>1.389377</td>\n",
              "      <td>0.282950</td>\n",
              "      <td>...</td>\n",
              "      <td>0.000811</td>\n",
              "      <td>0.001750</td>\n",
              "      <td>0.003415</td>\n",
              "      <td>0.006048</td>\n",
              "      <td>0.009945</td>\n",
              "      <td>0.015720</td>\n",
              "      <td>0.024593</td>\n",
              "      <td>0.038424</td>\n",
              "      <td>0.059534</td>\n",
              "      <td>0.090801</td>\n",
              "    </tr>\n",
              "    <tr>\n",
              "      <th>2</th>\n",
              "      <td>2</td>\n",
              "      <td>0.0</td>\n",
              "      <td>0.503392</td>\n",
              "      <td>152.76870</td>\n",
              "      <td>0.011552</td>\n",
              "      <td>0.016412</td>\n",
              "      <td>0.004306</td>\n",
              "      <td>0.007357</td>\n",
              "      <td>-0.133998</td>\n",
              "      <td>0.223442</td>\n",
              "      <td>...</td>\n",
              "      <td>0.003183</td>\n",
              "      <td>0.006916</td>\n",
              "      <td>0.013742</td>\n",
              "      <td>0.025196</td>\n",
              "      <td>0.042973</td>\n",
              "      <td>0.068877</td>\n",
              "      <td>0.104854</td>\n",
              "      <td>0.153033</td>\n",
              "      <td>0.215902</td>\n",
              "      <td>0.298440</td>\n",
              "    </tr>\n",
              "    <tr>\n",
              "      <th>3</th>\n",
              "      <td>3</td>\n",
              "      <td>0.0</td>\n",
              "      <td>0.488244</td>\n",
              "      <td>123.84110</td>\n",
              "      <td>0.016648</td>\n",
              "      <td>0.007232</td>\n",
              "      <td>0.004221</td>\n",
              "      <td>0.001482</td>\n",
              "      <td>1.066655</td>\n",
              "      <td>0.425053</td>\n",
              "      <td>...</td>\n",
              "      <td>0.000763</td>\n",
              "      <td>0.001691</td>\n",
              "      <td>0.003347</td>\n",
              "      <td>0.005789</td>\n",
              "      <td>0.008923</td>\n",
              "      <td>0.013181</td>\n",
              "      <td>0.020897</td>\n",
              "      <td>0.036646</td>\n",
              "      <td>0.066004</td>\n",
              "      <td>0.117576</td>\n",
              "    </tr>\n",
              "    <tr>\n",
              "      <th>4</th>\n",
              "      <td>4</td>\n",
              "      <td>0.0</td>\n",
              "      <td>0.496821</td>\n",
              "      <td>130.78380</td>\n",
              "      <td>0.029870</td>\n",
              "      <td>0.034460</td>\n",
              "      <td>0.016352</td>\n",
              "      <td>0.001592</td>\n",
              "      <td>0.849569</td>\n",
              "      <td>-0.411059</td>\n",
              "      <td>...</td>\n",
              "      <td>0.000919</td>\n",
              "      <td>0.002004</td>\n",
              "      <td>0.003871</td>\n",
              "      <td>0.006358</td>\n",
              "      <td>0.008433</td>\n",
              "      <td>0.007623</td>\n",
              "      <td>0.003397</td>\n",
              "      <td>0.026416</td>\n",
              "      <td>0.078568</td>\n",
              "      <td>0.177591</td>\n",
              "    </tr>\n",
              "    <tr>\n",
              "      <th>...</th>\n",
              "      <td>...</td>\n",
              "      <td>...</td>\n",
              "      <td>...</td>\n",
              "      <td>...</td>\n",
              "      <td>...</td>\n",
              "      <td>...</td>\n",
              "      <td>...</td>\n",
              "      <td>...</td>\n",
              "      <td>...</td>\n",
              "      <td>...</td>\n",
              "      <td>...</td>\n",
              "      <td>...</td>\n",
              "      <td>...</td>\n",
              "      <td>...</td>\n",
              "      <td>...</td>\n",
              "      <td>...</td>\n",
              "      <td>...</td>\n",
              "      <td>...</td>\n",
              "      <td>...</td>\n",
              "      <td>...</td>\n",
              "      <td>...</td>\n",
              "    </tr>\n",
              "    <tr>\n",
              "      <th>22570</th>\n",
              "      <td>22570</td>\n",
              "      <td>1.0</td>\n",
              "      <td>0.495708</td>\n",
              "      <td>43.28272</td>\n",
              "      <td>0.031320</td>\n",
              "      <td>0.010866</td>\n",
              "      <td>0.007185</td>\n",
              "      <td>0.000848</td>\n",
              "      <td>-0.414526</td>\n",
              "      <td>-0.690625</td>\n",
              "      <td>...</td>\n",
              "      <td>0.000392</td>\n",
              "      <td>0.000845</td>\n",
              "      <td>0.001672</td>\n",
              "      <td>0.003088</td>\n",
              "      <td>0.005341</td>\n",
              "      <td>0.008532</td>\n",
              "      <td>0.012373</td>\n",
              "      <td>0.016067</td>\n",
              "      <td>0.018169</td>\n",
              "      <td>0.015897</td>\n",
              "    </tr>\n",
              "    <tr>\n",
              "      <th>22571</th>\n",
              "      <td>22571</td>\n",
              "      <td>1.0</td>\n",
              "      <td>0.536097</td>\n",
              "      <td>35.77644</td>\n",
              "      <td>0.089789</td>\n",
              "      <td>0.015850</td>\n",
              "      <td>0.006881</td>\n",
              "      <td>0.005601</td>\n",
              "      <td>-0.028845</td>\n",
              "      <td>0.934089</td>\n",
              "      <td>...</td>\n",
              "      <td>0.001865</td>\n",
              "      <td>0.003920</td>\n",
              "      <td>0.007764</td>\n",
              "      <td>0.015250</td>\n",
              "      <td>0.029065</td>\n",
              "      <td>0.051837</td>\n",
              "      <td>0.085413</td>\n",
              "      <td>0.130882</td>\n",
              "      <td>0.189289</td>\n",
              "      <td>0.264222</td>\n",
              "    </tr>\n",
              "    <tr>\n",
              "      <th>22572</th>\n",
              "      <td>22572</td>\n",
              "      <td>1.0</td>\n",
              "      <td>0.516989</td>\n",
              "      <td>40.66633</td>\n",
              "      <td>0.056547</td>\n",
              "      <td>0.031709</td>\n",
              "      <td>0.012869</td>\n",
              "      <td>0.007707</td>\n",
              "      <td>0.561080</td>\n",
              "      <td>0.025548</td>\n",
              "      <td>...</td>\n",
              "      <td>0.003741</td>\n",
              "      <td>0.007919</td>\n",
              "      <td>0.014907</td>\n",
              "      <td>0.025046</td>\n",
              "      <td>0.037916</td>\n",
              "      <td>0.052361</td>\n",
              "      <td>0.066622</td>\n",
              "      <td>0.078427</td>\n",
              "      <td>0.085027</td>\n",
              "      <td>0.082829</td>\n",
              "    </tr>\n",
              "    <tr>\n",
              "      <th>22573</th>\n",
              "      <td>22573</td>\n",
              "      <td>1.0</td>\n",
              "      <td>0.514398</td>\n",
              "      <td>48.36263</td>\n",
              "      <td>0.059926</td>\n",
              "      <td>0.013307</td>\n",
              "      <td>0.006346</td>\n",
              "      <td>0.004572</td>\n",
              "      <td>0.499208</td>\n",
              "      <td>-1.016149</td>\n",
              "      <td>...</td>\n",
              "      <td>0.002169</td>\n",
              "      <td>0.004623</td>\n",
              "      <td>0.008857</td>\n",
              "      <td>0.015174</td>\n",
              "      <td>0.023454</td>\n",
              "      <td>0.033371</td>\n",
              "      <td>0.044792</td>\n",
              "      <td>0.058167</td>\n",
              "      <td>0.075026</td>\n",
              "      <td>0.098845</td>\n",
              "    </tr>\n",
              "    <tr>\n",
              "      <th>22574</th>\n",
              "      <td>22574</td>\n",
              "      <td>1.0</td>\n",
              "      <td>0.523754</td>\n",
              "      <td>58.44409</td>\n",
              "      <td>0.051211</td>\n",
              "      <td>0.039774</td>\n",
              "      <td>0.009579</td>\n",
              "      <td>0.002640</td>\n",
              "      <td>-0.014750</td>\n",
              "      <td>0.692909</td>\n",
              "      <td>...</td>\n",
              "      <td>0.000898</td>\n",
              "      <td>0.001922</td>\n",
              "      <td>0.003896</td>\n",
              "      <td>0.007616</td>\n",
              "      <td>0.014228</td>\n",
              "      <td>0.025525</td>\n",
              "      <td>0.044245</td>\n",
              "      <td>0.073989</td>\n",
              "      <td>0.119131</td>\n",
              "      <td>0.186828</td>\n",
              "    </tr>\n",
              "  </tbody>\n",
              "</table>\n",
              "<p>22575 rows × 87 columns</p>\n",
              "</div>"
            ],
            "text/plain": [
              "          0    1         2          3         4         5         6   \\\n",
              "0          0  0.0  0.493280  119.32780  0.026617  0.019539  0.001285   \n",
              "1          1  0.0  0.499796  140.66150  0.027218  0.015303  0.017385   \n",
              "2          2  0.0  0.503392  152.76870  0.011552  0.016412  0.004306   \n",
              "3          3  0.0  0.488244  123.84110  0.016648  0.007232  0.004221   \n",
              "4          4  0.0  0.496821  130.78380  0.029870  0.034460  0.016352   \n",
              "...      ...  ...       ...        ...       ...       ...       ...   \n",
              "22570  22570  1.0  0.495708   43.28272  0.031320  0.010866  0.007185   \n",
              "22571  22571  1.0  0.536097   35.77644  0.089789  0.015850  0.006881   \n",
              "22572  22572  1.0  0.516989   40.66633  0.056547  0.031709  0.012869   \n",
              "22573  22573  1.0  0.514398   48.36263  0.059926  0.013307  0.006346   \n",
              "22574  22574  1.0  0.523754   58.44409  0.051211  0.039774  0.009579   \n",
              "\n",
              "             7         8         9   ...        77        78        79  \\\n",
              "0      0.004125 -0.114632 -0.192545  ...  0.001793  0.003997  0.008152   \n",
              "1      0.001732  1.389377  0.282950  ...  0.000811  0.001750  0.003415   \n",
              "2      0.007357 -0.133998  0.223442  ...  0.003183  0.006916  0.013742   \n",
              "3      0.001482  1.066655  0.425053  ...  0.000763  0.001691  0.003347   \n",
              "4      0.001592  0.849569 -0.411059  ...  0.000919  0.002004  0.003871   \n",
              "...         ...       ...       ...  ...       ...       ...       ...   \n",
              "22570  0.000848 -0.414526 -0.690625  ...  0.000392  0.000845  0.001672   \n",
              "22571  0.005601 -0.028845  0.934089  ...  0.001865  0.003920  0.007764   \n",
              "22572  0.007707  0.561080  0.025548  ...  0.003741  0.007919  0.014907   \n",
              "22573  0.004572  0.499208 -1.016149  ...  0.002169  0.004623  0.008857   \n",
              "22574  0.002640 -0.014750  0.692909  ...  0.000898  0.001922  0.003896   \n",
              "\n",
              "             80        81        82        83        84        85        86  \n",
              "0      0.015164  0.025790  0.040464  0.059261  0.081969  0.108310  0.138916  \n",
              "1      0.006048  0.009945  0.015720  0.024593  0.038424  0.059534  0.090801  \n",
              "2      0.025196  0.042973  0.068877  0.104854  0.153033  0.215902  0.298440  \n",
              "3      0.005789  0.008923  0.013181  0.020897  0.036646  0.066004  0.117576  \n",
              "4      0.006358  0.008433  0.007623  0.003397  0.026416  0.078568  0.177591  \n",
              "...         ...       ...       ...       ...       ...       ...       ...  \n",
              "22570  0.003088  0.005341  0.008532  0.012373  0.016067  0.018169  0.015897  \n",
              "22571  0.015250  0.029065  0.051837  0.085413  0.130882  0.189289  0.264222  \n",
              "22572  0.025046  0.037916  0.052361  0.066622  0.078427  0.085027  0.082829  \n",
              "22573  0.015174  0.023454  0.033371  0.044792  0.058167  0.075026  0.098845  \n",
              "22574  0.007616  0.014228  0.025525  0.044245  0.073989  0.119131  0.186828  \n",
              "\n",
              "[22575 rows x 87 columns]"
            ]
          },
          "execution_count": 4,
          "metadata": {},
          "output_type": "execute_result"
        }
      ],
      "source": [
        "# let's see the dataset\n",
        "dataset"
      ]
    },
    {
      "cell_type": "markdown",
      "metadata": {
        "id": "dsLwD52pgEOG"
      },
      "source": [
        "Let us name every column of the dataset their desired value,(what they actually represent in the high energy physics realm)"
      ]
    },
    {
      "cell_type": "code",
      "execution_count": 5,
      "metadata": {
        "id": "SbveT2rLgN35"
      },
      "outputs": [],
      "source": [
        "# Every Feature name\n",
        "header_list = {\n",
        "    0 : 'number',\n",
        "    1 : 'eos_type',\n",
        "    2 :\t'mean_pt',\n",
        "    3 :\t'dndy',\n",
        "    4 :\t'v2',\n",
        "    5 :\t'v3',\n",
        "    6 :\t'v4',\n",
        "    7 : 'v5',\n",
        "    8 :\t'psi2',\n",
        "    9 :\t'psi3',\n",
        "    10 : 'psi4',\n",
        "    11 :\t'psi5',\n",
        "    12 :'ptspec_bin0',\n",
        "    13 : 'ptspec_bin',\n",
        "    14 : 'ptspec_bin2',\n",
        "    15 :\t'ptspec_bin3',\n",
        "    16 : 'ptspec_bin4',\n",
        "    17 :\t'ptspec_bin5',\n",
        "    18 :\t'ptspec_bin6',\n",
        "    19 :\t'ptspec_bin7',\n",
        "    20 :\t'ptspec_bin8',\n",
        "    21 : \t'ptspec_bin9',\n",
        "    22 :\t'ptspec_bin10',\n",
        "    23 :\t'ptspec_bin11',\n",
        "    24 :\t'ptspec_bin12',\n",
        "    25 :\t'ptspec_bin13',\n",
        "    26 :\t'ptspec_bin14',\n",
        "    27 :\t'v2_ptbin0',\n",
        "    28 :\t'v2_ptbin1',\n",
        "    29 :\t'v2_ptbin2',\n",
        "    30 :\t'v2_ptbin3',\n",
        "    31 :\t'v2_ptbin4',\n",
        "    32 :\t'v2_ptbin5',\n",
        "    33 :\t'v2_ptbin6',\n",
        "    34 :\t'v2_ptbin7',\n",
        "    35 :\t'v2_ptbin8',\n",
        "    36 :\t'v2_ptbin9',\n",
        "    37 :\t'v2_ptbin10',\n",
        "    38 :\t'v2_ptbin11',\n",
        "    39 :\t'v2_ptbin12',\n",
        "    40 :\t'v2_ptbin13',\n",
        "    41 :\t'v2_ptbin14',\n",
        "    42 :\t'v3_ptbin0',\n",
        "    43 :\t'v3_ptbin1',\n",
        "    44 :\t'v3_ptbin2',\n",
        "    45 :\t'v3_ptbin3',\n",
        "    46 :\t'v3_ptbin4',\n",
        "    47 :\t'v3_ptbin5',\n",
        "    48 :\t'v3_ptbin6',\n",
        "    49 :\t'v3_ptbin7',\n",
        "    50 : 'v3_ptbin8',\n",
        "    51 : 'v3_ptbin9',\n",
        "    52 : 'v3_ptbin10',\n",
        "    53 : 'v3_ptbin11',\n",
        "    54 : 'v3_ptbin12',\n",
        "    55 : 'v3_ptbin13',\n",
        "    56 : 'v3_ptbin14',\n",
        "    57 : 'v4_ptbin0',\n",
        "    58 : 'v4_ptbin1',\n",
        "    59 : 'v4_ptbin2',\n",
        "    60 : 'v4_ptbin3',\n",
        "    61 : 'v4_ptbin4',\n",
        "    62 : 'v4_ptbin5',\n",
        "    63 : 'v4_ptbin6',\n",
        "    64 : 'v4_ptbin7',\n",
        "    65 : 'v4_ptbin8',\n",
        "    66 : 'v4_ptbin9',\n",
        "    67 : 'v4_ptbin10',\n",
        "    68 : 'v4_ptbin11',\n",
        "    69 : 'v4_ptbin12',\n",
        "    70 : 'v4_ptbin13',\n",
        "    71 : 'v4_ptbin14',\n",
        "    72 : 'v5_ptbin0',\n",
        "    73 : 'v5_ptbin1',\n",
        "    74 : 'v5_ptbin2',\n",
        "    75 : 'v5_ptbin3',\n",
        "    76 : 'v5_ptbin4',\n",
        "    77 : 'v5_ptbin5',\n",
        "    78 : 'v5_ptbin6',\n",
        "    79 : 'v5_ptbin7',\n",
        "    80 : 'v5_ptbin8',\n",
        "    81 : 'v5_ptbin9',\n",
        "    82 : 'v5_ptbin10',\n",
        "    83 : 'v5_ptbin11',\n",
        "    84 : 'v5_ptbin12',\n",
        "    85 : 'v5_ptbin13',\n",
        "    86 : 'v5_ptbin14'\n",
        "}\n"
      ]
    },
    {
      "cell_type": "code",
      "execution_count": 6,
      "metadata": {
        "colab": {
          "base_uri": "https://localhost:8080/",
          "height": 299
        },
        "id": "4tF5jlLfgTCi",
        "outputId": "d507934e-2fa4-40c5-f451-c5f2580ef118"
      },
      "outputs": [
        {
          "data": {
            "text/html": [
              "<div>\n",
              "<style scoped>\n",
              "    .dataframe tbody tr th:only-of-type {\n",
              "        vertical-align: middle;\n",
              "    }\n",
              "\n",
              "    .dataframe tbody tr th {\n",
              "        vertical-align: top;\n",
              "    }\n",
              "\n",
              "    .dataframe thead th {\n",
              "        text-align: right;\n",
              "    }\n",
              "</style>\n",
              "<table border=\"1\" class=\"dataframe\">\n",
              "  <thead>\n",
              "    <tr style=\"text-align: right;\">\n",
              "      <th></th>\n",
              "      <th>number</th>\n",
              "      <th>eos_type</th>\n",
              "      <th>mean_pt</th>\n",
              "      <th>dndy</th>\n",
              "      <th>v2</th>\n",
              "      <th>v3</th>\n",
              "      <th>v4</th>\n",
              "      <th>v5</th>\n",
              "      <th>psi2</th>\n",
              "      <th>psi3</th>\n",
              "      <th>...</th>\n",
              "      <th>v5_ptbin5</th>\n",
              "      <th>v5_ptbin6</th>\n",
              "      <th>v5_ptbin7</th>\n",
              "      <th>v5_ptbin8</th>\n",
              "      <th>v5_ptbin9</th>\n",
              "      <th>v5_ptbin10</th>\n",
              "      <th>v5_ptbin11</th>\n",
              "      <th>v5_ptbin12</th>\n",
              "      <th>v5_ptbin13</th>\n",
              "      <th>v5_ptbin14</th>\n",
              "    </tr>\n",
              "  </thead>\n",
              "  <tbody>\n",
              "    <tr>\n",
              "      <th>0</th>\n",
              "      <td>0</td>\n",
              "      <td>0.0</td>\n",
              "      <td>0.493280</td>\n",
              "      <td>119.3278</td>\n",
              "      <td>0.026617</td>\n",
              "      <td>0.019539</td>\n",
              "      <td>0.001285</td>\n",
              "      <td>0.004125</td>\n",
              "      <td>-0.114632</td>\n",
              "      <td>-0.192545</td>\n",
              "      <td>...</td>\n",
              "      <td>0.001793</td>\n",
              "      <td>0.003997</td>\n",
              "      <td>0.008152</td>\n",
              "      <td>0.015164</td>\n",
              "      <td>0.025790</td>\n",
              "      <td>0.040464</td>\n",
              "      <td>0.059261</td>\n",
              "      <td>0.081969</td>\n",
              "      <td>0.108310</td>\n",
              "      <td>0.138916</td>\n",
              "    </tr>\n",
              "    <tr>\n",
              "      <th>1</th>\n",
              "      <td>1</td>\n",
              "      <td>0.0</td>\n",
              "      <td>0.499796</td>\n",
              "      <td>140.6615</td>\n",
              "      <td>0.027218</td>\n",
              "      <td>0.015303</td>\n",
              "      <td>0.017385</td>\n",
              "      <td>0.001732</td>\n",
              "      <td>1.389377</td>\n",
              "      <td>0.282950</td>\n",
              "      <td>...</td>\n",
              "      <td>0.000811</td>\n",
              "      <td>0.001750</td>\n",
              "      <td>0.003415</td>\n",
              "      <td>0.006048</td>\n",
              "      <td>0.009945</td>\n",
              "      <td>0.015720</td>\n",
              "      <td>0.024593</td>\n",
              "      <td>0.038424</td>\n",
              "      <td>0.059534</td>\n",
              "      <td>0.090801</td>\n",
              "    </tr>\n",
              "    <tr>\n",
              "      <th>2</th>\n",
              "      <td>2</td>\n",
              "      <td>0.0</td>\n",
              "      <td>0.503392</td>\n",
              "      <td>152.7687</td>\n",
              "      <td>0.011552</td>\n",
              "      <td>0.016412</td>\n",
              "      <td>0.004306</td>\n",
              "      <td>0.007357</td>\n",
              "      <td>-0.133998</td>\n",
              "      <td>0.223442</td>\n",
              "      <td>...</td>\n",
              "      <td>0.003183</td>\n",
              "      <td>0.006916</td>\n",
              "      <td>0.013742</td>\n",
              "      <td>0.025196</td>\n",
              "      <td>0.042973</td>\n",
              "      <td>0.068877</td>\n",
              "      <td>0.104854</td>\n",
              "      <td>0.153033</td>\n",
              "      <td>0.215902</td>\n",
              "      <td>0.298440</td>\n",
              "    </tr>\n",
              "    <tr>\n",
              "      <th>3</th>\n",
              "      <td>3</td>\n",
              "      <td>0.0</td>\n",
              "      <td>0.488244</td>\n",
              "      <td>123.8411</td>\n",
              "      <td>0.016648</td>\n",
              "      <td>0.007232</td>\n",
              "      <td>0.004221</td>\n",
              "      <td>0.001482</td>\n",
              "      <td>1.066655</td>\n",
              "      <td>0.425053</td>\n",
              "      <td>...</td>\n",
              "      <td>0.000763</td>\n",
              "      <td>0.001691</td>\n",
              "      <td>0.003347</td>\n",
              "      <td>0.005789</td>\n",
              "      <td>0.008923</td>\n",
              "      <td>0.013181</td>\n",
              "      <td>0.020897</td>\n",
              "      <td>0.036646</td>\n",
              "      <td>0.066004</td>\n",
              "      <td>0.117576</td>\n",
              "    </tr>\n",
              "    <tr>\n",
              "      <th>4</th>\n",
              "      <td>4</td>\n",
              "      <td>0.0</td>\n",
              "      <td>0.496821</td>\n",
              "      <td>130.7838</td>\n",
              "      <td>0.029870</td>\n",
              "      <td>0.034460</td>\n",
              "      <td>0.016352</td>\n",
              "      <td>0.001592</td>\n",
              "      <td>0.849569</td>\n",
              "      <td>-0.411059</td>\n",
              "      <td>...</td>\n",
              "      <td>0.000919</td>\n",
              "      <td>0.002004</td>\n",
              "      <td>0.003871</td>\n",
              "      <td>0.006358</td>\n",
              "      <td>0.008433</td>\n",
              "      <td>0.007623</td>\n",
              "      <td>0.003397</td>\n",
              "      <td>0.026416</td>\n",
              "      <td>0.078568</td>\n",
              "      <td>0.177591</td>\n",
              "    </tr>\n",
              "  </tbody>\n",
              "</table>\n",
              "<p>5 rows × 87 columns</p>\n",
              "</div>"
            ],
            "text/plain": [
              "   number  eos_type   mean_pt      dndy        v2        v3        v4  \\\n",
              "0       0       0.0  0.493280  119.3278  0.026617  0.019539  0.001285   \n",
              "1       1       0.0  0.499796  140.6615  0.027218  0.015303  0.017385   \n",
              "2       2       0.0  0.503392  152.7687  0.011552  0.016412  0.004306   \n",
              "3       3       0.0  0.488244  123.8411  0.016648  0.007232  0.004221   \n",
              "4       4       0.0  0.496821  130.7838  0.029870  0.034460  0.016352   \n",
              "\n",
              "         v5      psi2      psi3  ...  v5_ptbin5  v5_ptbin6  v5_ptbin7  \\\n",
              "0  0.004125 -0.114632 -0.192545  ...   0.001793   0.003997   0.008152   \n",
              "1  0.001732  1.389377  0.282950  ...   0.000811   0.001750   0.003415   \n",
              "2  0.007357 -0.133998  0.223442  ...   0.003183   0.006916   0.013742   \n",
              "3  0.001482  1.066655  0.425053  ...   0.000763   0.001691   0.003347   \n",
              "4  0.001592  0.849569 -0.411059  ...   0.000919   0.002004   0.003871   \n",
              "\n",
              "   v5_ptbin8  v5_ptbin9  v5_ptbin10  v5_ptbin11  v5_ptbin12  v5_ptbin13  \\\n",
              "0   0.015164   0.025790    0.040464    0.059261    0.081969    0.108310   \n",
              "1   0.006048   0.009945    0.015720    0.024593    0.038424    0.059534   \n",
              "2   0.025196   0.042973    0.068877    0.104854    0.153033    0.215902   \n",
              "3   0.005789   0.008923    0.013181    0.020897    0.036646    0.066004   \n",
              "4   0.006358   0.008433    0.007623    0.003397    0.026416    0.078568   \n",
              "\n",
              "   v5_ptbin14  \n",
              "0    0.138916  \n",
              "1    0.090801  \n",
              "2    0.298440  \n",
              "3    0.117576  \n",
              "4    0.177591  \n",
              "\n",
              "[5 rows x 87 columns]"
            ]
          },
          "execution_count": 6,
          "metadata": {},
          "output_type": "execute_result"
        }
      ],
      "source": [
        "dataset = dataset.rename(columns=header_list)\n",
        "dataset.head(5)"
      ]
    },
    {
      "cell_type": "code",
      "execution_count": 7,
      "metadata": {
        "colab": {
          "base_uri": "https://localhost:8080/",
          "height": 488
        },
        "id": "HlDukPImgT6R",
        "outputId": "206b8545-0ab1-4fe3-d41d-ae207dbb9e84"
      },
      "outputs": [
        {
          "data": {
            "text/html": [
              "<div>\n",
              "<style scoped>\n",
              "    .dataframe tbody tr th:only-of-type {\n",
              "        vertical-align: middle;\n",
              "    }\n",
              "\n",
              "    .dataframe tbody tr th {\n",
              "        vertical-align: top;\n",
              "    }\n",
              "\n",
              "    .dataframe thead th {\n",
              "        text-align: right;\n",
              "    }\n",
              "</style>\n",
              "<table border=\"1\" class=\"dataframe\">\n",
              "  <thead>\n",
              "    <tr style=\"text-align: right;\">\n",
              "      <th></th>\n",
              "      <th>eos_type</th>\n",
              "      <th>mean_pt</th>\n",
              "      <th>dndy</th>\n",
              "      <th>v2</th>\n",
              "      <th>v3</th>\n",
              "      <th>v4</th>\n",
              "      <th>v5</th>\n",
              "      <th>psi2</th>\n",
              "      <th>psi3</th>\n",
              "      <th>psi4</th>\n",
              "      <th>...</th>\n",
              "      <th>v5_ptbin5</th>\n",
              "      <th>v5_ptbin6</th>\n",
              "      <th>v5_ptbin7</th>\n",
              "      <th>v5_ptbin8</th>\n",
              "      <th>v5_ptbin9</th>\n",
              "      <th>v5_ptbin10</th>\n",
              "      <th>v5_ptbin11</th>\n",
              "      <th>v5_ptbin12</th>\n",
              "      <th>v5_ptbin13</th>\n",
              "      <th>v5_ptbin14</th>\n",
              "    </tr>\n",
              "  </thead>\n",
              "  <tbody>\n",
              "    <tr>\n",
              "      <th>0</th>\n",
              "      <td>0.0</td>\n",
              "      <td>0.493280</td>\n",
              "      <td>119.32780</td>\n",
              "      <td>0.026617</td>\n",
              "      <td>0.019539</td>\n",
              "      <td>0.001285</td>\n",
              "      <td>0.004125</td>\n",
              "      <td>-0.114632</td>\n",
              "      <td>-0.192545</td>\n",
              "      <td>0.604534</td>\n",
              "      <td>...</td>\n",
              "      <td>0.001793</td>\n",
              "      <td>0.003997</td>\n",
              "      <td>0.008152</td>\n",
              "      <td>0.015164</td>\n",
              "      <td>0.025790</td>\n",
              "      <td>0.040464</td>\n",
              "      <td>0.059261</td>\n",
              "      <td>0.081969</td>\n",
              "      <td>0.108310</td>\n",
              "      <td>0.138916</td>\n",
              "    </tr>\n",
              "    <tr>\n",
              "      <th>1</th>\n",
              "      <td>0.0</td>\n",
              "      <td>0.499796</td>\n",
              "      <td>140.66150</td>\n",
              "      <td>0.027218</td>\n",
              "      <td>0.015303</td>\n",
              "      <td>0.017385</td>\n",
              "      <td>0.001732</td>\n",
              "      <td>1.389377</td>\n",
              "      <td>0.282950</td>\n",
              "      <td>0.155580</td>\n",
              "      <td>...</td>\n",
              "      <td>0.000811</td>\n",
              "      <td>0.001750</td>\n",
              "      <td>0.003415</td>\n",
              "      <td>0.006048</td>\n",
              "      <td>0.009945</td>\n",
              "      <td>0.015720</td>\n",
              "      <td>0.024593</td>\n",
              "      <td>0.038424</td>\n",
              "      <td>0.059534</td>\n",
              "      <td>0.090801</td>\n",
              "    </tr>\n",
              "    <tr>\n",
              "      <th>2</th>\n",
              "      <td>0.0</td>\n",
              "      <td>0.503392</td>\n",
              "      <td>152.76870</td>\n",
              "      <td>0.011552</td>\n",
              "      <td>0.016412</td>\n",
              "      <td>0.004306</td>\n",
              "      <td>0.007357</td>\n",
              "      <td>-0.133998</td>\n",
              "      <td>0.223442</td>\n",
              "      <td>-0.593591</td>\n",
              "      <td>...</td>\n",
              "      <td>0.003183</td>\n",
              "      <td>0.006916</td>\n",
              "      <td>0.013742</td>\n",
              "      <td>0.025196</td>\n",
              "      <td>0.042973</td>\n",
              "      <td>0.068877</td>\n",
              "      <td>0.104854</td>\n",
              "      <td>0.153033</td>\n",
              "      <td>0.215902</td>\n",
              "      <td>0.298440</td>\n",
              "    </tr>\n",
              "    <tr>\n",
              "      <th>3</th>\n",
              "      <td>0.0</td>\n",
              "      <td>0.488244</td>\n",
              "      <td>123.84110</td>\n",
              "      <td>0.016648</td>\n",
              "      <td>0.007232</td>\n",
              "      <td>0.004221</td>\n",
              "      <td>0.001482</td>\n",
              "      <td>1.066655</td>\n",
              "      <td>0.425053</td>\n",
              "      <td>-0.017385</td>\n",
              "      <td>...</td>\n",
              "      <td>0.000763</td>\n",
              "      <td>0.001691</td>\n",
              "      <td>0.003347</td>\n",
              "      <td>0.005789</td>\n",
              "      <td>0.008923</td>\n",
              "      <td>0.013181</td>\n",
              "      <td>0.020897</td>\n",
              "      <td>0.036646</td>\n",
              "      <td>0.066004</td>\n",
              "      <td>0.117576</td>\n",
              "    </tr>\n",
              "    <tr>\n",
              "      <th>4</th>\n",
              "      <td>0.0</td>\n",
              "      <td>0.496821</td>\n",
              "      <td>130.78380</td>\n",
              "      <td>0.029870</td>\n",
              "      <td>0.034460</td>\n",
              "      <td>0.016352</td>\n",
              "      <td>0.001592</td>\n",
              "      <td>0.849569</td>\n",
              "      <td>-0.411059</td>\n",
              "      <td>0.742171</td>\n",
              "      <td>...</td>\n",
              "      <td>0.000919</td>\n",
              "      <td>0.002004</td>\n",
              "      <td>0.003871</td>\n",
              "      <td>0.006358</td>\n",
              "      <td>0.008433</td>\n",
              "      <td>0.007623</td>\n",
              "      <td>0.003397</td>\n",
              "      <td>0.026416</td>\n",
              "      <td>0.078568</td>\n",
              "      <td>0.177591</td>\n",
              "    </tr>\n",
              "    <tr>\n",
              "      <th>...</th>\n",
              "      <td>...</td>\n",
              "      <td>...</td>\n",
              "      <td>...</td>\n",
              "      <td>...</td>\n",
              "      <td>...</td>\n",
              "      <td>...</td>\n",
              "      <td>...</td>\n",
              "      <td>...</td>\n",
              "      <td>...</td>\n",
              "      <td>...</td>\n",
              "      <td>...</td>\n",
              "      <td>...</td>\n",
              "      <td>...</td>\n",
              "      <td>...</td>\n",
              "      <td>...</td>\n",
              "      <td>...</td>\n",
              "      <td>...</td>\n",
              "      <td>...</td>\n",
              "      <td>...</td>\n",
              "      <td>...</td>\n",
              "      <td>...</td>\n",
              "    </tr>\n",
              "    <tr>\n",
              "      <th>22570</th>\n",
              "      <td>1.0</td>\n",
              "      <td>0.495708</td>\n",
              "      <td>43.28272</td>\n",
              "      <td>0.031320</td>\n",
              "      <td>0.010866</td>\n",
              "      <td>0.007185</td>\n",
              "      <td>0.000848</td>\n",
              "      <td>-0.414526</td>\n",
              "      <td>-0.690625</td>\n",
              "      <td>0.623115</td>\n",
              "      <td>...</td>\n",
              "      <td>0.000392</td>\n",
              "      <td>0.000845</td>\n",
              "      <td>0.001672</td>\n",
              "      <td>0.003088</td>\n",
              "      <td>0.005341</td>\n",
              "      <td>0.008532</td>\n",
              "      <td>0.012373</td>\n",
              "      <td>0.016067</td>\n",
              "      <td>0.018169</td>\n",
              "      <td>0.015897</td>\n",
              "    </tr>\n",
              "    <tr>\n",
              "      <th>22571</th>\n",
              "      <td>1.0</td>\n",
              "      <td>0.536097</td>\n",
              "      <td>35.77644</td>\n",
              "      <td>0.089789</td>\n",
              "      <td>0.015850</td>\n",
              "      <td>0.006881</td>\n",
              "      <td>0.005601</td>\n",
              "      <td>-0.028845</td>\n",
              "      <td>0.934089</td>\n",
              "      <td>0.126117</td>\n",
              "      <td>...</td>\n",
              "      <td>0.001865</td>\n",
              "      <td>0.003920</td>\n",
              "      <td>0.007764</td>\n",
              "      <td>0.015250</td>\n",
              "      <td>0.029065</td>\n",
              "      <td>0.051837</td>\n",
              "      <td>0.085413</td>\n",
              "      <td>0.130882</td>\n",
              "      <td>0.189289</td>\n",
              "      <td>0.264222</td>\n",
              "    </tr>\n",
              "    <tr>\n",
              "      <th>22572</th>\n",
              "      <td>1.0</td>\n",
              "      <td>0.516989</td>\n",
              "      <td>40.66633</td>\n",
              "      <td>0.056547</td>\n",
              "      <td>0.031709</td>\n",
              "      <td>0.012869</td>\n",
              "      <td>0.007707</td>\n",
              "      <td>0.561080</td>\n",
              "      <td>0.025548</td>\n",
              "      <td>0.430158</td>\n",
              "      <td>...</td>\n",
              "      <td>0.003741</td>\n",
              "      <td>0.007919</td>\n",
              "      <td>0.014907</td>\n",
              "      <td>0.025046</td>\n",
              "      <td>0.037916</td>\n",
              "      <td>0.052361</td>\n",
              "      <td>0.066622</td>\n",
              "      <td>0.078427</td>\n",
              "      <td>0.085027</td>\n",
              "      <td>0.082829</td>\n",
              "    </tr>\n",
              "    <tr>\n",
              "      <th>22573</th>\n",
              "      <td>1.0</td>\n",
              "      <td>0.514398</td>\n",
              "      <td>48.36263</td>\n",
              "      <td>0.059926</td>\n",
              "      <td>0.013307</td>\n",
              "      <td>0.006346</td>\n",
              "      <td>0.004572</td>\n",
              "      <td>0.499208</td>\n",
              "      <td>-1.016149</td>\n",
              "      <td>0.443735</td>\n",
              "      <td>...</td>\n",
              "      <td>0.002169</td>\n",
              "      <td>0.004623</td>\n",
              "      <td>0.008857</td>\n",
              "      <td>0.015174</td>\n",
              "      <td>0.023454</td>\n",
              "      <td>0.033371</td>\n",
              "      <td>0.044792</td>\n",
              "      <td>0.058167</td>\n",
              "      <td>0.075026</td>\n",
              "      <td>0.098845</td>\n",
              "    </tr>\n",
              "    <tr>\n",
              "      <th>22574</th>\n",
              "      <td>1.0</td>\n",
              "      <td>0.523754</td>\n",
              "      <td>58.44409</td>\n",
              "      <td>0.051211</td>\n",
              "      <td>0.039774</td>\n",
              "      <td>0.009579</td>\n",
              "      <td>0.002640</td>\n",
              "      <td>-0.014750</td>\n",
              "      <td>0.692909</td>\n",
              "      <td>0.630324</td>\n",
              "      <td>...</td>\n",
              "      <td>0.000898</td>\n",
              "      <td>0.001922</td>\n",
              "      <td>0.003896</td>\n",
              "      <td>0.007616</td>\n",
              "      <td>0.014228</td>\n",
              "      <td>0.025525</td>\n",
              "      <td>0.044245</td>\n",
              "      <td>0.073989</td>\n",
              "      <td>0.119131</td>\n",
              "      <td>0.186828</td>\n",
              "    </tr>\n",
              "  </tbody>\n",
              "</table>\n",
              "<p>22575 rows × 86 columns</p>\n",
              "</div>"
            ],
            "text/plain": [
              "       eos_type   mean_pt       dndy        v2        v3        v4        v5  \\\n",
              "0           0.0  0.493280  119.32780  0.026617  0.019539  0.001285  0.004125   \n",
              "1           0.0  0.499796  140.66150  0.027218  0.015303  0.017385  0.001732   \n",
              "2           0.0  0.503392  152.76870  0.011552  0.016412  0.004306  0.007357   \n",
              "3           0.0  0.488244  123.84110  0.016648  0.007232  0.004221  0.001482   \n",
              "4           0.0  0.496821  130.78380  0.029870  0.034460  0.016352  0.001592   \n",
              "...         ...       ...        ...       ...       ...       ...       ...   \n",
              "22570       1.0  0.495708   43.28272  0.031320  0.010866  0.007185  0.000848   \n",
              "22571       1.0  0.536097   35.77644  0.089789  0.015850  0.006881  0.005601   \n",
              "22572       1.0  0.516989   40.66633  0.056547  0.031709  0.012869  0.007707   \n",
              "22573       1.0  0.514398   48.36263  0.059926  0.013307  0.006346  0.004572   \n",
              "22574       1.0  0.523754   58.44409  0.051211  0.039774  0.009579  0.002640   \n",
              "\n",
              "           psi2      psi3      psi4  ...  v5_ptbin5  v5_ptbin6  v5_ptbin7  \\\n",
              "0     -0.114632 -0.192545  0.604534  ...   0.001793   0.003997   0.008152   \n",
              "1      1.389377  0.282950  0.155580  ...   0.000811   0.001750   0.003415   \n",
              "2     -0.133998  0.223442 -0.593591  ...   0.003183   0.006916   0.013742   \n",
              "3      1.066655  0.425053 -0.017385  ...   0.000763   0.001691   0.003347   \n",
              "4      0.849569 -0.411059  0.742171  ...   0.000919   0.002004   0.003871   \n",
              "...         ...       ...       ...  ...        ...        ...        ...   \n",
              "22570 -0.414526 -0.690625  0.623115  ...   0.000392   0.000845   0.001672   \n",
              "22571 -0.028845  0.934089  0.126117  ...   0.001865   0.003920   0.007764   \n",
              "22572  0.561080  0.025548  0.430158  ...   0.003741   0.007919   0.014907   \n",
              "22573  0.499208 -1.016149  0.443735  ...   0.002169   0.004623   0.008857   \n",
              "22574 -0.014750  0.692909  0.630324  ...   0.000898   0.001922   0.003896   \n",
              "\n",
              "       v5_ptbin8  v5_ptbin9  v5_ptbin10  v5_ptbin11  v5_ptbin12  v5_ptbin13  \\\n",
              "0       0.015164   0.025790    0.040464    0.059261    0.081969    0.108310   \n",
              "1       0.006048   0.009945    0.015720    0.024593    0.038424    0.059534   \n",
              "2       0.025196   0.042973    0.068877    0.104854    0.153033    0.215902   \n",
              "3       0.005789   0.008923    0.013181    0.020897    0.036646    0.066004   \n",
              "4       0.006358   0.008433    0.007623    0.003397    0.026416    0.078568   \n",
              "...          ...        ...         ...         ...         ...         ...   \n",
              "22570   0.003088   0.005341    0.008532    0.012373    0.016067    0.018169   \n",
              "22571   0.015250   0.029065    0.051837    0.085413    0.130882    0.189289   \n",
              "22572   0.025046   0.037916    0.052361    0.066622    0.078427    0.085027   \n",
              "22573   0.015174   0.023454    0.033371    0.044792    0.058167    0.075026   \n",
              "22574   0.007616   0.014228    0.025525    0.044245    0.073989    0.119131   \n",
              "\n",
              "       v5_ptbin14  \n",
              "0        0.138916  \n",
              "1        0.090801  \n",
              "2        0.298440  \n",
              "3        0.117576  \n",
              "4        0.177591  \n",
              "...           ...  \n",
              "22570    0.015897  \n",
              "22571    0.264222  \n",
              "22572    0.082829  \n",
              "22573    0.098845  \n",
              "22574    0.186828  \n",
              "\n",
              "[22575 rows x 86 columns]"
            ]
          },
          "execution_count": 7,
          "metadata": {},
          "output_type": "execute_result"
        }
      ],
      "source": [
        "dataset = dataset.drop(['number'], axis = 1)\n",
        "dataset"
      ]
    },
    {
      "cell_type": "markdown",
      "metadata": {
        "id": "_K29CB3CgbT6"
      },
      "source": [
        "Since the number of qubits required scales with the number of features , we'll try to keep it less "
      ]
    },
    {
      "cell_type": "code",
      "execution_count": 8,
      "metadata": {
        "id": "pKQPKGppgX_K"
      },
      "outputs": [],
      "source": [
        "important_features = [\n",
        "    \n",
        "    'eos_type',\n",
        "\t'v2',\n",
        "\t'v3',\n",
        " 'psi2'\n",
        "\t   \n",
        "]\n",
        "\n",
        "# Best features according to reference\n",
        "\n",
        "\n",
        "# The index of the best features in the header_list\n",
        "important_features_id = np.array([\n",
        "                         0,\n",
        "                         4,\n",
        "                         5,\n",
        "                         8\n",
        "                         \n",
        "])"
      ]
    },
    {
      "cell_type": "code",
      "execution_count": 9,
      "metadata": {
        "colab": {
          "base_uri": "https://localhost:8080/"
        },
        "id": "hNUQhvD1gkYq",
        "outputId": "5d014b6f-1f09-4860-bb30-66daaa09725f"
      },
      "outputs": [
        {
          "name": "stdout",
          "output_type": "stream",
          "text": [
            "(22575, 85) (22575,)\n"
          ]
        }
      ],
      "source": [
        "# Convert it to numpy\n",
        "dataset = dataset.to_numpy()\n",
        "\n",
        "# Sepparating the label (Y) from the input features (X)\n",
        "Y = dataset[:, 0]\n",
        "Y = np.array(Y, dtype=int)\n",
        "X = dataset[:, 1:]\n",
        "\n",
        "# Sanity check\n",
        "print(X.shape, Y.shape)"
      ]
    },
    {
      "cell_type": "code",
      "execution_count": 10,
      "metadata": {
        "colab": {
          "base_uri": "https://localhost:8080/"
        },
        "id": "pzjRMKn8gnet",
        "outputId": "8ab7d23e-38d2-4f4f-901d-f415b426616e"
      },
      "outputs": [
        {
          "name": "stdout",
          "output_type": "stream",
          "text": [
            "(13434, 85) (13434,)\n",
            "(9141, 85) (9141,)\n"
          ]
        }
      ],
      "source": [
        "# Separate data with label 0 and label 1\n",
        "\n",
        "x_0 = X[Y == 0, :]\n",
        "x_1 = X[Y == 1, :]\n",
        "y_0 = Y[Y==0]\n",
        "y_1 = Y[Y==1]\n",
        "\n",
        "# Sanity check\n",
        "print(x_0.shape, y_0.shape)\n",
        "print(x_1.shape, y_1.shape)"
      ]
    },
    {
      "cell_type": "code",
      "execution_count": 11,
      "metadata": {
        "id": "qJl5aDmVhzJl"
      },
      "outputs": [],
      "source": [
        "# Split 50% of the data for training set and 50% for testing set\n",
        "\n",
        "x_train_0, x_test_0, y_train_0, y_test_0 = train_test_split(x_0, y_0, test_size=0.5, random_state=2021)\n",
        "x_train_1, x_test_1, y_train_1, y_test_1 = train_test_split(x_1, y_1, test_size=0.5, random_state=2021)"
      ]
    },
    {
      "cell_type": "code",
      "execution_count": 12,
      "metadata": {
        "colab": {
          "base_uri": "https://localhost:8080/"
        },
        "id": "NBA26Sjsh1rw",
        "outputId": "27a3cb33-ff55-4bad-bbd3-be68a0f86ec2"
      },
      "outputs": [
        {
          "name": "stdout",
          "output_type": "stream",
          "text": [
            "(4000, 85) (4000,)\n",
            "(4000, 85) (4000,)\n"
          ]
        }
      ],
      "source": [
        "num_sample = 2000 # sample per class, total = 400\n",
        "\n",
        "# Take the first 400 samples (500 from each class) from training set for X_train and Y_train\n",
        "X_train = np.concatenate((x_train_0[:num_sample, :], x_train_1[:num_sample, :]), axis=0)\n",
        "Y_train = np.concatenate((y_train_0[:num_sample], y_train_1[:num_sample]), axis=0)\n",
        "\n",
        "# Take the first 1000 samples (500 from each class) from testing set for X_test and Y_test\n",
        "X_test = np.concatenate((x_test_0[:num_sample, :], x_test_1[:num_sample, :]), axis=0)\n",
        "Y_test = np.concatenate((y_test_0[:num_sample], y_test_1[:num_sample]), axis=0)\n",
        "\n",
        "# Sanity Check\n",
        "print(X_train.shape, Y_train.shape)\n",
        "print(X_test.shape, Y_test.shape)"
      ]
    },
    {
      "cell_type": "code",
      "execution_count": 15,
      "metadata": {
        "id": "Fw-WHvgJh4aY"
      },
      "outputs": [],
      "source": [
        "# Save the 400 subset as a txt file for future use so we don't need to load the whole dataset each time\n",
        "\n",
        "np.savetxt(r'C:\\Users\\Sid\\Documents\\QSVM\\X_train_4000.txt', X_train)\n",
        "np.savetxt(r'C:\\Users\\Sid\\Documents\\QSVM\\X_test_4000.txt', X_test)\n",
        "np.savetxt(r'C:\\Users\\Sid\\Documents\\QSVM\\Y_train_4000.txt', Y_train)\n",
        "np.savetxt(r'C:\\Users\\Sid\\Documents\\QSVM\\Y_test_4000.txt', Y_test)"
      ]
    },
    {
      "cell_type": "code",
      "execution_count": 16,
      "metadata": {
        "colab": {
          "base_uri": "https://localhost:8080/"
        },
        "id": "zrhVfCTth63a",
        "outputId": "3971f7e6-bf45-49c4-cc64-e2515060bcd0"
      },
      "outputs": [
        {
          "name": "stdout",
          "output_type": "stream",
          "text": [
            "(4000, 85) (4000,)\n",
            "(4000, 85) (4000,)\n"
          ]
        }
      ],
      "source": [
        "# Code to load the saved subset\n",
        "\n",
        "num_sample = 4000\n",
        "\n",
        "X_train = np.loadtxt(r'C:\\Users\\Sid\\Documents\\QSVM\\X_train_' + str(num_sample) + '.txt')\n",
        "Y_train = np.loadtxt(r'C:\\Users\\Sid\\Documents\\QSVM\\Y_train_' + str(num_sample) + '.txt')\n",
        "\n",
        "X_test = np.loadtxt(r'C:\\Users\\Sid\\Documents\\QSVM\\X_test_' + str(num_sample) + '.txt')\n",
        "Y_test = np.loadtxt(r'C:\\Users\\Sid\\Documents\\QSVM\\Y_test_' + str(num_sample) + '.txt')\n",
        "\n",
        "# Sanity Check\n",
        "print(X_train.shape, Y_train.shape)\n",
        "print(X_test.shape, Y_test.shape)"
      ]
    },
    {
      "cell_type": "code",
      "execution_count": 17,
      "metadata": {
        "colab": {
          "base_uri": "https://localhost:8080/"
        },
        "id": "siVgAMmXh8uX",
        "outputId": "a6ac2424-8476-4b94-f26f-48dd103761a2"
      },
      "outputs": [
        {
          "data": {
            "text/plain": [
              "((4000, 3), (4000, 3))"
            ]
          },
          "execution_count": 17,
          "metadata": {},
          "output_type": "execute_result"
        }
      ],
      "source": [
        "# Take only the best 3 features\n",
        "\n",
        "X_train = X_train[:, important_features_id[:3]]\n",
        "X_test = X_test[:, important_features_id[:3]]\n",
        "\n",
        "X_train.shape, X_test.shape"
      ]
    },
    {
      "cell_type": "code",
      "execution_count": 18,
      "metadata": {
        "colab": {
          "base_uri": "https://localhost:8080/"
        },
        "id": "JBpH3hQ-ilI6",
        "outputId": "18265cd5-b642-4061-bc76-9d320880e23c"
      },
      "outputs": [
        {
          "data": {
            "text/plain": [
              "array([[0.5727371 , 0.01961521, 0.01268726],\n",
              "       [0.5031572 , 0.01139411, 0.00381489],\n",
              "       [0.493949  , 0.00356587, 0.00591594],\n",
              "       ...,\n",
              "       [0.4378398 , 0.01194924, 0.00095084],\n",
              "       [0.4434155 , 0.00266166, 0.00173735],\n",
              "       [0.4957438 , 0.01178781, 0.00435343]])"
            ]
          },
          "execution_count": 18,
          "metadata": {},
          "output_type": "execute_result"
        }
      ],
      "source": [
        "X_train"
      ]
    },
    {
      "cell_type": "code",
      "execution_count": 19,
      "metadata": {
        "colab": {
          "base_uri": "https://localhost:8080/"
        },
        "id": "eZJ0BsewinOd",
        "outputId": "2a446646-2b3d-42de-fc2e-6c608d2decd5"
      },
      "outputs": [
        {
          "data": {
            "text/plain": [
              "array([[0.5949019 , 0.01120026, 0.0141949 ],\n",
              "       [0.566241  , 0.0397017 , 0.0133887 ],\n",
              "       [0.4653798 , 0.01649949, 0.00153883],\n",
              "       ...,\n",
              "       [0.5077894 , 0.00496598, 0.00181929],\n",
              "       [0.5087496 , 0.00478042, 0.00345181],\n",
              "       [0.5005321 , 0.00357258, 0.00427089]])"
            ]
          },
          "execution_count": 19,
          "metadata": {},
          "output_type": "execute_result"
        }
      ],
      "source": [
        "X_test"
      ]
    },
    {
      "cell_type": "code",
      "execution_count": 20,
      "metadata": {
        "colab": {
          "base_uri": "https://localhost:8080/"
        },
        "id": "7O9hUuRDirku",
        "outputId": "411ce2ff-9bb1-45dd-8829-cec140fccfea"
      },
      "outputs": [
        {
          "data": {
            "text/plain": [
              "array([0., 0., 0., ..., 1., 1., 1.])"
            ]
          },
          "execution_count": 20,
          "metadata": {},
          "output_type": "execute_result"
        }
      ],
      "source": [
        "Y_train"
      ]
    },
    {
      "cell_type": "code",
      "execution_count": 21,
      "metadata": {
        "colab": {
          "base_uri": "https://localhost:8080/"
        },
        "id": "6_uCyypLiutQ",
        "outputId": "85995154-9160-41c6-f534-5682fb0a0c22"
      },
      "outputs": [
        {
          "data": {
            "text/plain": [
              "array([0., 0., 0., ..., 1., 1., 1.])"
            ]
          },
          "execution_count": 21,
          "metadata": {},
          "output_type": "execute_result"
        }
      ],
      "source": [
        "Y_test"
      ]
    },
    {
      "cell_type": "markdown",
      "metadata": {
        "id": "IB6aMnu4ixdS"
      },
      "source": [
        "Here you can see the Y data only includes string of $0$ and $1$s because its a case of binary classification."
      ]
    },
    {
      "cell_type": "markdown",
      "metadata": {
        "id": "p1iFBlG2ncna"
      },
      "source": [
        "## Quantum Support Vector Machine \n",
        "\n",
        "This implementation is based on [Schuld and Killoran(2018)](https://arxiv.org/abs/1803.07128)\n",
        "\n",
        "We can basically replace the commonly used \"variational approach\" to quantum machine learning with a classical kernel method where the kernel is computed using a quantum device.\n",
        "\n",
        "We will see how a kernel based method compares to that of a variational method.\n",
        "We will combine pennylane with scikit-learn and then compare this whole with the variational quantum circuit trained via stochastic gradient descent using PyTorch"
      ]
    },
    {
      "cell_type": "markdown",
      "metadata": {
        "id": "hECi3q8CoLRZ"
      },
      "source": [
        "It's our hypotheses that **for quantum machine learning applications with many parameters, kernel-based training can be a great alternative to the variational approach to quantum machine learning**\n",
        "\n"
      ]
    },
    {
      "cell_type": "markdown",
      "metadata": {
        "id": "3mWna_tHojLM"
      },
      "source": [
        "## Some Mathematical Formulation\n",
        "\n",
        "Let's consider a quantum model of the form :\n",
        "\n",
        "$$ f(x) = \\langle \\phi(x) | \\mathcal{M} | \\phi(x)\\rangle, $$\n",
        "\n",
        "where $| \\phi(x)\\rangle$ is prepared by a fixed embedding circuit that encodes data input $x$ and $\\mathcal{M}$ is an arbitrary observable. \n",
        "\n",
        "\n",
        "### Kernel Approach\n",
        "\n",
        "Instead of trainig the $f$ variationally, we can often train an equivalent classical kernel method with a kernel executed on a quantum device. \n",
        "The quantum kernel is given by the mutual overlap of two data-encoding quantum states,\n",
        "\n",
        "$$ \\kappa(x, x') = | \\langle \\phi(x') | \\phi(x)\\rangle|^2. $$\n",
        "\n",
        "hence its only based on data-encoding.\n",
        "\n",
        "If the Loss function $L$ is the [hinge loss](https://en.wikipedia.org/wiki/Hinge_loss), the kernel method corresponds to a standard [support vector machine](https://en.wikipedia.org/wiki/Support-vector_machine) in the sense of a maximum-margin classifier.\n",
        "\n",
        "\n"
      ]
    },
    {
      "cell_type": "markdown",
      "metadata": {
        "id": "pHGtzYiHp7qq"
      },
      "source": [
        "### Note:\n",
        "\n",
        "Specifically , we can replace variational method for qml with the kernel based training, if the optimization problem can be written as minimizing a cost of the form:\n",
        "\n",
        "$$ \\min_f  \\lambda\\;  \\mathrm{tr}\\{\\mathcal{M}^2\\} + \\frac{1}{M}\\sum_{m=1}^M L(f(x^m), y^m), $$\n",
        "\n",
        "which is a regularized empirical risk with training data samples $(x^m, y^m)_{m=1\\dots M}$ regularization strength $\\lambda \\in \\mathbb{R}$ and the loss function $L$"
      ]
    },
    {
      "cell_type": "markdown",
      "metadata": {
        "id": "9RnHmdMnqds7"
      },
      "source": [
        "## Initialization\n",
        "\n",
        "We will do some basic but useful imports."
      ]
    },
    {
      "cell_type": "code",
      "execution_count": 22,
      "metadata": {
        "id": "-l__U2-1iwT3"
      },
      "outputs": [],
      "source": [
        "import numpy as np\n",
        "import torch\n",
        "from torch.nn.functional import relu\n",
        "\n",
        "from sklearn.svm import SVC\n",
        "from sklearn.datasets import load_iris\n",
        "from sklearn.preprocessing import StandardScaler\n",
        "from sklearn.model_selection import train_test_split\n",
        "from sklearn.metrics import accuracy_score\n",
        "\n",
        "import pennylane as qml\n",
        "from pennylane.templates import AngleEmbedding, StronglyEntanglingLayers\n",
        "from pennylane.operation import Tensor\n",
        "\n",
        "import matplotlib.pyplot as plt\n",
        "\n",
        "np.random.seed(42)"
      ]
    },
    {
      "cell_type": "markdown",
      "metadata": {
        "id": "POVOIrwLqpgd"
      },
      "source": [
        "The technique we are going to use to embedd the data is the **angle-embedding**, which needs as many qubits as there are number of features. \n",
        "\n",
        "(There is a way to run for arbitrary number of features by just using one qubit, you can checkk that [here](https://twitter.com/MonitSharma1729/status/1577953151134552066?s=20&t=sWbk8aem3eM_Z2Z6YRQVQg))"
      ]
    },
    {
      "cell_type": "code",
      "execution_count": 23,
      "metadata": {
        "colab": {
          "base_uri": "https://localhost:8080/"
        },
        "id": "maXZCNedjVOb",
        "outputId": "2da96dd0-ac89-4f19-b293-b0d042849696"
      },
      "outputs": [
        {
          "data": {
            "text/plain": [
              "3"
            ]
          },
          "execution_count": 23,
          "metadata": {},
          "output_type": "execute_result"
        }
      ],
      "source": [
        "n_qubits = len(X_train[0])\n",
        "n_qubits"
      ]
    },
    {
      "cell_type": "markdown",
      "metadata": {
        "id": "W0MHC-zJriXv"
      },
      "source": [
        "To implement the kernel, we need to prepare two states : $| \\phi(x) \\rangle$,$| \\phi(x') \\rangle$ on different sets of qubits with the help of angle-embedding routines $S(x), S(x^{\\prime})$ and measure their overlap with a small routine called as [SWAP test](https://en.wikipedia.org/wiki/Swap_test)\n",
        "\n",
        "\n",
        "-------------------------\n",
        "\n",
        "What we can try further on is just take half the number of qubits to prepare $| \\phi(x) \\rangle$ and then apply the inverse embedding with $x^{\\prime}$ on the same qubits. And finally measure the projector onto initial states.\n",
        "\n",
        "\n",
        "\n",
        "------------------------------------\n",
        "\n",
        "\n",
        "Let us verify that this gives us the kernel:\n",
        "\n",
        "$$ \\begin{split}\\begin{align*}\n",
        "    \\langle 0..0 |S(x') S(x)^{\\dagger} \\mathcal{M} S(x')^{\\dagger} S(x)  | 0..0\\rangle &= \\langle 0..0 |S(x') S(x)^{\\dagger} |0..0\\rangle \\langle 0..0| S(x')^{\\dagger} S(x)  | 0..0\\rangle  \\\\\n",
        "    &= |\\langle 0..0| S(x')^{\\dagger} S(x)  | 0..0\\rangle |^2\\\\\n",
        "    &= | \\langle \\phi(x') | \\phi(x)\\rangle|^2 \\\\\n",
        "    &= \\kappa(x, x').\n",
        "\\end{align*}\\end{split} $$\n"
      ]
    },
    {
      "cell_type": "markdown",
      "metadata": {
        "id": "H2xDwoCKshuZ"
      },
      "source": [
        "All this thing applied together, we have our *quantum kernel evaluator*"
      ]
    },
    {
      "cell_type": "code",
      "execution_count": 24,
      "metadata": {
        "id": "XY9X6GTcjZJs"
      },
      "outputs": [],
      "source": [
        "dev_kernel = qml.device(\"default.qubit\", wires=n_qubits)\n",
        "\n",
        "projector = np.zeros((2**n_qubits, 2**n_qubits))\n",
        "projector[0, 0] = 1\n",
        "\n",
        "@qml.qnode(dev_kernel)\n",
        "def kernel(x1, x2):\n",
        "    \"\"\"The quantum kernel.\"\"\"\n",
        "    AngleEmbedding(x1, wires=range(n_qubits))\n",
        "    qml.adjoint(AngleEmbedding)(x2, wires=range(n_qubits))\n",
        "    return qml.expval(qml.Hermitian(projector, wires=range(n_qubits)))"
      ]
    },
    {
      "cell_type": "markdown",
      "metadata": {
        "id": "0V0UpYXpsrZg"
      },
      "source": [
        "Check whether evaluating the kernel of a data point and itself returns 1:"
      ]
    },
    {
      "cell_type": "code",
      "execution_count": 25,
      "metadata": {
        "colab": {
          "base_uri": "https://localhost:8080/"
        },
        "id": "ekP93O9-jczC",
        "outputId": "a14aae28-c279-4fe0-dbca-0569cabeaec5"
      },
      "outputs": [
        {
          "data": {
            "text/plain": [
              "tensor(1., requires_grad=True)"
            ]
          },
          "execution_count": 25,
          "metadata": {},
          "output_type": "execute_result"
        }
      ],
      "source": [
        "kernel(X_train[0], X_train[0])"
      ]
    },
    {
      "cell_type": "markdown",
      "metadata": {
        "id": "o281wzUdsx67"
      },
      "source": [
        "The way an SVM with a custom kernel is implemented in scikit-learn requires us to pass a function that computes a matrix of kernel evaluations for samples in two different datasets A, B. If A=B, this is the [Gram matrix](https://en.wikipedia.org/wiki/Gramian_matrix)."
      ]
    },
    {
      "cell_type": "code",
      "execution_count": 26,
      "metadata": {
        "id": "uNoTsAoajfkZ"
      },
      "outputs": [],
      "source": [
        "def kernel_matrix(A, B):\n",
        "    \"\"\"Compute the matrix whose entries are the kernel\n",
        "       evaluated on pairwise data from sets A and B.\"\"\"\n",
        "    return np.array([[kernel(a, b) for b in B] for a in A])"
      ]
    },
    {
      "cell_type": "markdown",
      "metadata": {
        "id": "Tfon00i8s8It"
      },
      "source": [
        "Training the SVM optimizes internal parameters that basically weigh kernel functions. It is a breeze in scikit-learn, which is designed as a high-level machine learning library:"
      ]
    },
    {
      "cell_type": "code",
      "execution_count": 27,
      "metadata": {
        "id": "AhLuQzkCjhiM"
      },
      "outputs": [],
      "source": [
        "svm = SVC(kernel=kernel_matrix).fit(X_train, Y_train)"
      ]
    },
    {
      "cell_type": "markdown",
      "metadata": {
        "id": "5fx6KmjXs_od"
      },
      "source": [
        "Let’s compute the accuracy on the test set.\n"
      ]
    },
    {
      "cell_type": "code",
      "execution_count": 28,
      "metadata": {
        "colab": {
          "base_uri": "https://localhost:8080/"
        },
        "id": "XoVD0fcCjmUo",
        "outputId": "70bdab91-c4fc-468a-eefe-a212ed862a47"
      },
      "outputs": [
        {
          "data": {
            "text/plain": [
              "0.54125"
            ]
          },
          "execution_count": 28,
          "metadata": {},
          "output_type": "execute_result"
        }
      ],
      "source": [
        "predictions = svm.predict(X_test)\n",
        "accuracy_score(predictions, Y_test)"
      ]
    },
    {
      "cell_type": "markdown",
      "metadata": {
        "id": "JoI5-mfxtDoM"
      },
      "source": [
        "How many times was the quantum device evaluated?"
      ]
    },
    {
      "cell_type": "code",
      "execution_count": 29,
      "metadata": {
        "colab": {
          "base_uri": "https://localhost:8080/"
        },
        "id": "PuysVh-ujoWs",
        "outputId": "e5a94689-cece-48aa-8fed-3aa8da3c725e"
      },
      "outputs": [
        {
          "ename": "AttributeError",
          "evalue": "DefaultQubit has no attribute 'num_executions'. You may be looking for a property or method present in the legacy device interface. Please consult the DefaultQubit documentation for an updated list of public properties and methods.",
          "output_type": "error",
          "traceback": [
            "\u001b[1;31m---------------------------------------------------------------------------\u001b[0m",
            "\u001b[1;31mAttributeError\u001b[0m                            Traceback (most recent call last)",
            "Cell \u001b[1;32mIn[29], line 1\u001b[0m\n\u001b[1;32m----> 1\u001b[0m \u001b[43mdev_kernel\u001b[49m\u001b[38;5;241;43m.\u001b[39;49m\u001b[43mnum_executions\u001b[49m\n",
            "File \u001b[1;32mc:\\Users\\Sid\\AppData\\Local\\Programs\\Python\\Python311\\Lib\\site-packages\\pennylane\\devices\\device_api.py:175\u001b[0m, in \u001b[0;36mDevice.__getattr__\u001b[1;34m(self, key)\u001b[0m\n\u001b[0;32m    174\u001b[0m \u001b[38;5;28;01mdef\u001b[39;00m \u001b[38;5;21m__getattr__\u001b[39m(\u001b[38;5;28mself\u001b[39m, key):\n\u001b[1;32m--> 175\u001b[0m     \u001b[38;5;28;01mraise\u001b[39;00m \u001b[38;5;167;01mAttributeError\u001b[39;00m(\n\u001b[0;32m    176\u001b[0m         \u001b[38;5;124mf\u001b[39m\u001b[38;5;124m\"\u001b[39m\u001b[38;5;132;01m{\u001b[39;00m\u001b[38;5;28mtype\u001b[39m(\u001b[38;5;28mself\u001b[39m)\u001b[38;5;241m.\u001b[39m\u001b[38;5;18m__name__\u001b[39m\u001b[38;5;132;01m}\u001b[39;00m\u001b[38;5;124m has no attribute \u001b[39m\u001b[38;5;124m'\u001b[39m\u001b[38;5;132;01m{\u001b[39;00mkey\u001b[38;5;132;01m}\u001b[39;00m\u001b[38;5;124m'\u001b[39m\u001b[38;5;124m.\u001b[39m\u001b[38;5;124m\"\u001b[39m\n\u001b[0;32m    177\u001b[0m         \u001b[38;5;124m\"\u001b[39m\u001b[38;5;124m You may be looking for a property or method present in the legacy device interface.\u001b[39m\u001b[38;5;124m\"\u001b[39m\n\u001b[0;32m    178\u001b[0m         \u001b[38;5;124mf\u001b[39m\u001b[38;5;124m\"\u001b[39m\u001b[38;5;124m Please consult the \u001b[39m\u001b[38;5;132;01m{\u001b[39;00m\u001b[38;5;28mtype\u001b[39m(\u001b[38;5;28mself\u001b[39m)\u001b[38;5;241m.\u001b[39m\u001b[38;5;18m__name__\u001b[39m\u001b[38;5;132;01m}\u001b[39;00m\u001b[38;5;124m documentation for an updated list of public\u001b[39m\u001b[38;5;124m\"\u001b[39m\n\u001b[0;32m    179\u001b[0m         \u001b[38;5;124m\"\u001b[39m\u001b[38;5;124m properties and methods.\u001b[39m\u001b[38;5;124m\"\u001b[39m\n\u001b[0;32m    180\u001b[0m     )\n",
            "\u001b[1;31mAttributeError\u001b[0m: DefaultQubit has no attribute 'num_executions'. You may be looking for a property or method present in the legacy device interface. Please consult the DefaultQubit documentation for an updated list of public properties and methods."
          ]
        }
      ],
      "source": [
        "dev_kernel.num_executions"
      ]
    },
    {
      "cell_type": "markdown",
      "metadata": {
        "id": "KyxclgvttGNq"
      },
      "source": [
        "## How to get this number?\n",
        "\n",
        "For $M$ training samples, the SVM must construct the $M \\times M$ dimensional kernel gram -matrix for training. To classify $M_{pred}$ new samples, the SVM needs to evaluate the kernel at most $M_{pred}M$ times to get the pairwise distances between training vectors and test samples."
      ]
    },
    {
      "cell_type": "markdown",
      "metadata": {
        "id": "wRlYLrLYtj5F"
      },
      "source": [
        "Let us formulate this as a function, which can be used at the end for the plot:"
      ]
    },
    {
      "cell_type": "code",
      "execution_count": 30,
      "metadata": {
        "id": "Eb5F278Ijsm6"
      },
      "outputs": [],
      "source": [
        "def circuit_evals_kernel(n_data, split):\n",
        "    \"\"\"Compute how many circuit evaluations one needs for kernel-based\n",
        "       training and prediction.\"\"\"\n",
        "\n",
        "    M = int(np.ceil(split * n_data))\n",
        "    Mpred = n_data - M\n",
        "\n",
        "    n_training = M * M\n",
        "    n_prediction = M * Mpred\n",
        "\n",
        "    return n_training + n_prediction"
      ]
    },
    {
      "cell_type": "code",
      "execution_count": 31,
      "metadata": {
        "colab": {
          "base_uri": "https://localhost:8080/"
        },
        "id": "dQ3-KTMsjvRA",
        "outputId": "d2dc6a26-325c-4c14-b05e-ca929a287c01"
      },
      "outputs": [
        {
          "data": {
            "text/plain": [
              "254826600"
            ]
          },
          "execution_count": 31,
          "metadata": {},
          "output_type": "execute_result"
        }
      ],
      "source": [
        "circuit_evals_kernel(n_data=len(X), split=len(X_train) /(len(X_train) + len(X_test)))"
      ]
    },
    {
      "cell_type": "markdown",
      "metadata": {
        "id": "XdJykidqtrlj"
      },
      "source": [
        "## Using the variational Approach\n",
        "\n",
        "Using the variational principle of training, we can propose an ansatz for the variational circuit and train it directly. By increasing the number of layers of the ansatz, its expressivity increases. Depending on the ansatz, we may only search through a subspace of all measurements for the best candidate.\n",
        "\n",
        "Remember from above, the variational training does not optimize exactly the same cost as the SVM, but we try to match them as closely as possible. For this we use a bias term in the quantum model, and train on the hinge loss.\n",
        "\n",
        "We also explicitly use the parameter-shift differentiation method in the quantum node, since this is a method which works on hardware as well. While `diff_method='backprop'` or `diff_method='adjoint'` would reduce the number of circuit evaluations significantly, they are based on tricks that are only suitable for simulators, and can therefore not scale to more than a few dozen qubits"
      ]
    },
    {
      "cell_type": "code",
      "execution_count": 32,
      "metadata": {
        "id": "kvdRh3hHjxNv"
      },
      "outputs": [],
      "source": [
        "dev_var = qml.device(\"default.qubit\", wires=n_qubits)\n",
        "\n",
        "@qml.qnode(dev_var, interface=\"torch\", diff_method=\"parameter-shift\")\n",
        "def quantum_model(x, params):\n",
        "    \"\"\"A variational quantum model.\"\"\"\n",
        "\n",
        "    # embedding\n",
        "    AngleEmbedding(x, wires=range(n_qubits))\n",
        "\n",
        "    # trainable measurement\n",
        "    StronglyEntanglingLayers(params, wires=range(n_qubits))\n",
        "    return qml.expval(qml.PauliZ(0))\n",
        "\n",
        "def quantum_model_plus_bias(x, params, bias):\n",
        "    \"\"\"Adding a bias.\"\"\"\n",
        "    return quantum_model(x, params) + bias\n",
        "\n",
        "def hinge_loss(predictions, targets):\n",
        "    \"\"\"Implements the hinge loss.\"\"\"\n",
        "    all_ones = torch.ones_like(targets)\n",
        "    hinge_loss = all_ones - predictions * targets\n",
        "    # trick: since the max(0,x) function is not differentiable,\n",
        "    # use the mathematically equivalent relu instead\n",
        "    hinge_loss = relu(hinge_loss)\n",
        "    return hinge_loss"
      ]
    },
    {
      "cell_type": "markdown",
      "metadata": {
        "id": "FEbPFw13t56b"
      },
      "source": [
        "We now summarize the usual training and prediction steps into two functions similar to scikit-learn’s `fit()` and `predict()`. While it feels cumbersome compared to the one-liner used to train the kernel method, PennyLane—like other differentiable programming libraries—provides a lot more control over the particulars of training.\n",
        "\n",
        "In our case, most of the work is to convert between numpy and torch, which we need for the differentiable `relu` function used in the hinge loss."
      ]
    },
    {
      "cell_type": "code",
      "execution_count": 33,
      "metadata": {
        "id": "bzRPlqXzj16w"
      },
      "outputs": [],
      "source": [
        "def quantum_model_train(n_layers, steps, batch_size):\n",
        "    \"\"\"Train the quantum model defined above.\"\"\"\n",
        "\n",
        "    params = np.random.random((n_layers, n_qubits, 3))\n",
        "    params_torch = torch.tensor(params, requires_grad=True)\n",
        "    bias_torch = torch.tensor(0.0)\n",
        "\n",
        "    opt = torch.optim.Adam([params_torch, bias_torch], lr=0.1)\n",
        "\n",
        "    loss_history = []\n",
        "    for i in range(steps):\n",
        "\n",
        "        batch_ids = np.random.choice(len(X_train), batch_size)\n",
        "\n",
        "        X_batch = X_train[batch_ids]\n",
        "        y_batch = Y_train[batch_ids]\n",
        "\n",
        "        X_batch_torch = torch.tensor(X_batch, requires_grad=False)\n",
        "        y_batch_torch = torch.tensor(y_batch, requires_grad=False)\n",
        "\n",
        "        def closure():\n",
        "            opt.zero_grad()\n",
        "            preds = torch.stack(\n",
        "                [quantum_model_plus_bias(x, params_torch, bias_torch) for x in X_batch_torch]\n",
        "            )\n",
        "            loss = torch.mean(hinge_loss(preds, y_batch_torch))\n",
        "\n",
        "            # bookkeeping\n",
        "            current_loss = loss.detach().numpy().item()\n",
        "            loss_history.append(current_loss)\n",
        "            if i % 10 == 0:\n",
        "                print(\"step\", i, \", loss\", current_loss)\n",
        "\n",
        "            loss.backward()\n",
        "            return loss\n",
        "\n",
        "        opt.step(closure)\n",
        "\n",
        "    return params_torch, bias_torch, loss_history\n",
        "\n",
        "\n",
        "def quantum_model_predict(X_pred, trained_params, trained_bias):\n",
        "    \"\"\"Predict using the quantum model defined above.\"\"\"\n",
        "\n",
        "    p = []\n",
        "    for x in X_pred:\n",
        "\n",
        "        x_torch = torch.tensor(x)\n",
        "        pred_torch = quantum_model_plus_bias(x_torch, trained_params, trained_bias)\n",
        "        pred = pred_torch.detach().numpy().item()\n",
        "        if pred > 0:\n",
        "            pred = 1\n",
        "        else:\n",
        "            pred = -1\n",
        "\n",
        "        p.append(pred)\n",
        "    return p"
      ]
    },
    {
      "cell_type": "markdown",
      "metadata": {
        "id": "YavvN5cauCCz"
      },
      "source": [
        "Train the variational model and see how well we are doing on the test set."
      ]
    },
    {
      "cell_type": "code",
      "execution_count": 35,
      "metadata": {
        "colab": {
          "base_uri": "https://localhost:8080/",
          "height": 474
        },
        "id": "6TYtevCKj9um",
        "outputId": "80673046-7b74-43f6-f1c3-03c699f87978"
      },
      "outputs": [
        {
          "name": "stdout",
          "output_type": "stream",
          "text": [
            "step 0 , loss 0.8207454260387295\n",
            "step 10 , loss 0.6874633474993275\n",
            "step 20 , loss 0.5208686694337558\n",
            "step 30 , loss 0.46008216713183653\n",
            "step 40 , loss 0.5026672467815709\n",
            "step 50 , loss 0.5521805026675466\n",
            "step 60 , loss 0.600798535858095\n",
            "step 70 , loss 0.35071842209581694\n",
            "step 80 , loss 0.5010839072785483\n",
            "step 90 , loss 0.5003796976661499\n",
            "accuracy on test set: 0.5\n"
          ]
        },
        {
          "data": {
            "image/png": "[encoded data removed]",
            "text/plain": [
              "<Figure size 640x480 with 1 Axes>"
            ]
          },
          "metadata": {},
          "output_type": "display_data"
        }
      ],
      "source": [
        "n_layers = 2\n",
        "batch_size = 20\n",
        "steps = 100\n",
        "trained_params, trained_bias, loss_history = quantum_model_train(n_layers, steps, batch_size)\n",
        "\n",
        "pred_test = quantum_model_predict(X_test, trained_params, trained_bias)\n",
        "print(\"accuracy on test set:\", accuracy_score(pred_test, Y_test))\n",
        "\n",
        "plt.plot(loss_history)\n",
        "plt.ylim((0, 1))\n",
        "plt.xlabel(\"steps\")\n",
        "plt.ylabel(\"cost\")\n",
        "plt.show()"
      ]
    },
    {
      "cell_type": "markdown",
      "metadata": {
        "id": "owj-H5IXuGlk"
      },
      "source": [
        "How often was the device executed?"
      ]
    },
    {
      "cell_type": "code",
      "execution_count": 36,
      "metadata": {
        "colab": {
          "base_uri": "https://localhost:8080/"
        },
        "id": "2QBmGLesj_90",
        "outputId": "4cfaa8ca-5ffc-4028-baf7-1c2ca03618ff"
      },
      "outputs": [
        {
          "ename": "AttributeError",
          "evalue": "DefaultQubit has no attribute 'num_executions'. You may be looking for a property or method present in the legacy device interface. Please consult the DefaultQubit documentation for an updated list of public properties and methods.",
          "output_type": "error",
          "traceback": [
            "\u001b[1;31m---------------------------------------------------------------------------\u001b[0m",
            "\u001b[1;31mAttributeError\u001b[0m                            Traceback (most recent call last)",
            "Cell \u001b[1;32mIn[36], line 1\u001b[0m\n\u001b[1;32m----> 1\u001b[0m \u001b[43mdev_var\u001b[49m\u001b[38;5;241;43m.\u001b[39;49m\u001b[43mnum_executions\u001b[49m\n",
            "File \u001b[1;32mc:\\Users\\Sid\\AppData\\Local\\Programs\\Python\\Python311\\Lib\\site-packages\\pennylane\\devices\\device_api.py:175\u001b[0m, in \u001b[0;36mDevice.__getattr__\u001b[1;34m(self, key)\u001b[0m\n\u001b[0;32m    174\u001b[0m \u001b[38;5;28;01mdef\u001b[39;00m \u001b[38;5;21m__getattr__\u001b[39m(\u001b[38;5;28mself\u001b[39m, key):\n\u001b[1;32m--> 175\u001b[0m     \u001b[38;5;28;01mraise\u001b[39;00m \u001b[38;5;167;01mAttributeError\u001b[39;00m(\n\u001b[0;32m    176\u001b[0m         \u001b[38;5;124mf\u001b[39m\u001b[38;5;124m\"\u001b[39m\u001b[38;5;132;01m{\u001b[39;00m\u001b[38;5;28mtype\u001b[39m(\u001b[38;5;28mself\u001b[39m)\u001b[38;5;241m.\u001b[39m\u001b[38;5;18m__name__\u001b[39m\u001b[38;5;132;01m}\u001b[39;00m\u001b[38;5;124m has no attribute \u001b[39m\u001b[38;5;124m'\u001b[39m\u001b[38;5;132;01m{\u001b[39;00mkey\u001b[38;5;132;01m}\u001b[39;00m\u001b[38;5;124m'\u001b[39m\u001b[38;5;124m.\u001b[39m\u001b[38;5;124m\"\u001b[39m\n\u001b[0;32m    177\u001b[0m         \u001b[38;5;124m\"\u001b[39m\u001b[38;5;124m You may be looking for a property or method present in the legacy device interface.\u001b[39m\u001b[38;5;124m\"\u001b[39m\n\u001b[0;32m    178\u001b[0m         \u001b[38;5;124mf\u001b[39m\u001b[38;5;124m\"\u001b[39m\u001b[38;5;124m Please consult the \u001b[39m\u001b[38;5;132;01m{\u001b[39;00m\u001b[38;5;28mtype\u001b[39m(\u001b[38;5;28mself\u001b[39m)\u001b[38;5;241m.\u001b[39m\u001b[38;5;18m__name__\u001b[39m\u001b[38;5;132;01m}\u001b[39;00m\u001b[38;5;124m documentation for an updated list of public\u001b[39m\u001b[38;5;124m\"\u001b[39m\n\u001b[0;32m    179\u001b[0m         \u001b[38;5;124m\"\u001b[39m\u001b[38;5;124m properties and methods.\u001b[39m\u001b[38;5;124m\"\u001b[39m\n\u001b[0;32m    180\u001b[0m     )\n",
            "\u001b[1;31mAttributeError\u001b[0m: DefaultQubit has no attribute 'num_executions'. You may be looking for a property or method present in the legacy device interface. Please consult the DefaultQubit documentation for an updated list of public properties and methods."
          ]
        }
      ],
      "source": [
        "dev_var.num_executions"
      ]
    },
    {
      "cell_type": "markdown",
      "metadata": {
        "id": "-lG8OWUOuNMM"
      },
      "source": [
        " In each optimization step, the variational circuit needs to compute the partial derivative of all trainable parameters for each sample in a batch. Using parameter-shift rules, we require roughly two circuit evaluations per partial derivative. Prediction uses only one circuit evaluation per sample.\n",
        "\n",
        "We can formulate this as another function that will be used in the scaling plot below."
      ]
    },
    {
      "cell_type": "code",
      "execution_count": 37,
      "metadata": {
        "id": "wZadxCJHkCbs"
      },
      "outputs": [],
      "source": [
        "def circuit_evals_variational(n_data, n_params, n_steps, shift_terms, split, batch_size):\n",
        "    \"\"\"Compute how many circuit evaluations are needed for\n",
        "       variational training and prediction.\"\"\"\n",
        "\n",
        "    M = int(np.ceil(split * n_data))\n",
        "    Mpred = n_data - M\n",
        "\n",
        "    n_training = n_params * n_steps * batch_size * shift_terms\n",
        "    n_prediction = Mpred\n",
        "\n",
        "    return n_training + n_prediction"
      ]
    },
    {
      "cell_type": "markdown",
      "metadata": {
        "id": "YCUleFZKuQXG"
      },
      "source": [
        "This estimates the circuit evaluations in variational training as:"
      ]
    },
    {
      "cell_type": "code",
      "execution_count": 38,
      "metadata": {
        "colab": {
          "base_uri": "https://localhost:8080/"
        },
        "id": "tsLXhUn6kGnh",
        "outputId": "e51ef4fa-2eb5-4133-ae07-41865cf594d2"
      },
      "outputs": [
        {
          "data": {
            "text/plain": [
              "83287"
            ]
          },
          "execution_count": 38,
          "metadata": {},
          "output_type": "execute_result"
        }
      ],
      "source": [
        "circuit_evals_variational(\n",
        "    n_data=len(X),\n",
        "    n_params=len(trained_params.flatten()),\n",
        "    n_steps=steps,\n",
        "    shift_terms=2,\n",
        "    split=len(X_train) /(len(X_train) + len(X_test)),\n",
        "    batch_size=batch_size,\n",
        ")"
      ]
    },
    {
      "cell_type": "markdown",
      "metadata": {
        "id": "zt8eb4LNuTfQ"
      },
      "source": [
        "It is important to note that while they are trained in a similar manner, the number of variational circuit evaluations differs from the number of neural network model evaluations in classical machine learning, which would be given by:"
      ]
    },
    {
      "cell_type": "code",
      "execution_count": 39,
      "metadata": {
        "id": "EQ5Fb60ZkIyJ"
      },
      "outputs": [],
      "source": [
        "def model_evals_nn(n_data, n_params, n_steps, split, batch_size):\n",
        "    \"\"\"Compute how many model evaluations are needed for neural\n",
        "       network training and prediction.\"\"\"\n",
        "\n",
        "    M = int(np.ceil(split * n_data))\n",
        "    Mpred = n_data - M\n",
        "\n",
        "    n_training = n_steps * batch_size\n",
        "    n_prediction = Mpred\n",
        "\n",
        "    return n_training + n_prediction"
      ]
    },
    {
      "cell_type": "markdown",
      "metadata": {
        "id": "S1uSOBj1uYSl"
      },
      "source": [
        "In each step of neural network training, and due to the clever implementations of automatic differentiation, the backpropagation algorithm can compute a gradient for all parameters in (more-or-less) a single run. For all we know at this stage, the no-cloning principle prevents variational circuits from using these tricks, which leads to `n_training` in `circuit_evals_variational` depending on the number of parameters, but not in `model_evals_nn`.\n",
        "\n",
        "For the same example as used here, a neural network would therefore have far fewer model evaluations than both variational and kernel-based training:\n",
        "\n"
      ]
    },
    {
      "cell_type": "code",
      "execution_count": 40,
      "metadata": {
        "colab": {
          "base_uri": "https://localhost:8080/"
        },
        "id": "_lQsafV8kK6U",
        "outputId": "bb9a6d30-c3c8-4e7a-f1de-8b4dca8ba33f"
      },
      "outputs": [
        {
          "data": {
            "text/plain": [
              "13287"
            ]
          },
          "execution_count": 40,
          "metadata": {},
          "output_type": "execute_result"
        }
      ],
      "source": [
        "model_evals_nn(\n",
        "    n_data=len(X),\n",
        "    n_params=len(trained_params.flatten()),\n",
        "    n_steps=steps,\n",
        "    split=len(X_train) /(len(X_train) + len(X_test)),\n",
        "    batch_size=batch_size,\n",
        ")"
      ]
    },
    {
      "cell_type": "markdown",
      "metadata": {
        "id": "GYst1Sc9ufte"
      },
      "source": [
        "## Which Method scales the best?"
      ]
    },
    {
      "cell_type": "code",
      "execution_count": 41,
      "metadata": {
        "colab": {
          "base_uri": "https://localhost:8080/",
          "height": 297
        },
        "id": "0nbi2Qk-kNVI",
        "outputId": "e0595b74-d906-460a-919d-ae676d856dd1"
      },
      "outputs": [
        {
          "data": {
            "image/png": "[encoded data removed]",
            "text/plain": [
              "<Figure size 640x480 with 1 Axes>"
            ]
          },
          "metadata": {},
          "output_type": "display_data"
        }
      ],
      "source": [
        "variational_training1 = []\n",
        "variational_training2 = []\n",
        "kernelbased_training = []\n",
        "nn_training = []\n",
        "x_axis = range(0, 2000, 100)\n",
        "\n",
        "for M in x_axis:\n",
        "\n",
        "    var1 = circuit_evals_variational(\n",
        "        n_data=M, n_params=M, n_steps=M,  shift_terms=2, split=0.75, batch_size=1\n",
        "    )\n",
        "    variational_training1.append(var1)\n",
        "\n",
        "    var2 = circuit_evals_variational(\n",
        "        n_data=M, n_params=round(np.sqrt(M)), n_steps=M,\n",
        "        shift_terms=2, split=0.75, batch_size=1\n",
        "    )\n",
        "    variational_training2.append(var2)\n",
        "\n",
        "    kernel = circuit_evals_kernel(n_data=M, split=0.75)\n",
        "    kernelbased_training.append(kernel)\n",
        "\n",
        "    nn = model_evals_nn(\n",
        "        n_data=M, n_params=M, n_steps=M, split=0.75, batch_size=1\n",
        "    )\n",
        "    nn_training.append(nn)\n",
        "\n",
        "\n",
        "plt.plot(x_axis, nn_training, linestyle='--', label=\"neural net\")\n",
        "plt.plot(x_axis, variational_training1, label=\"var. circuit (linear param scaling)\")\n",
        "plt.plot(x_axis, variational_training2, label=\"var. circuit (srqt param scaling)\")\n",
        "plt.plot(x_axis, kernelbased_training, label=\"(quantum) kernel\")\n",
        "plt.xlabel(\"size of data set\")\n",
        "plt.ylabel(\"number of evaluations\")\n",
        "plt.legend()\n",
        "plt.tight_layout()\n",
        "plt.show()"
      ]
    },
    {
      "cell_type": "code",
      "execution_count": null,
      "metadata": {
        "id": "A-7N5ClJkSXL"
      },
      "outputs": [],
      "source": []
    },
    {
      "cell_type": "code",
      "execution_count": null,
      "metadata": {},
      "outputs": [],
      "source": []
    },
    {
      "cell_type": "code",
      "execution_count": null,
      "metadata": {},
      "outputs": [],
      "source": []
    },
    {
      "cell_type": "code",
      "execution_count": null,
      "metadata": {},
      "outputs": [],
      "source": []
    }
  ],
  "metadata": {
    "colab": {
      "collapsed_sections": [],
      "provenance": []
    },
    "kernelspec": {
      "display_name": "Python 3.7.0 64-bit",
      "language": "python",
      "name": "python3"
    },
    "language_info": {
      "codemirror_mode": {
        "name": "ipython",
        "version": 3
      },
      "file_extension": ".py",
      "mimetype": "text/x-python",
      "name": "python",
      "nbconvert_exporter": "python",
      "pygments_lexer": "ipython3",
      "version": "3.11.0"
    },
    "vscode": {
      "interpreter": {
        "hash": "c0f2ef85a013b3e049ebe5ad4c39b42bd34e85c4b0686b7bef6ce5ff62aa91e1"
      }
    }
  },
  "nbformat": 4,
  "nbformat_minor": 0
}
